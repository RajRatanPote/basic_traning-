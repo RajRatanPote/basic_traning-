{
 "cells": [
  {
   "cell_type": "code",
   "execution_count": 3,
   "id": "intense-collection",
   "metadata": {},
   "outputs": [
    {
     "name": "stdout",
     "output_type": "stream",
     "text": [
      "list [1, 2, 3, 4, 5]\n",
      "Numpy Array: [1 2 3 4 5]\n"
     ]
    }
   ],
   "source": [
    "import numpy as np\n",
    "list = [1,2,3,4,5]\n",
    "sam_arr=np.array(list)\n",
    "print(\"list\",list)\n",
    "print(\"Numpy Array:\",sam_arr)"
   ]
  },
  {
   "cell_type": "code",
   "execution_count": 4,
   "id": "educational-double",
   "metadata": {},
   "outputs": [
    {
     "name": "stdout",
     "output_type": "stream",
     "text": [
      "<class 'list'>\n",
      "<class 'numpy.ndarray'>\n"
     ]
    }
   ],
   "source": [
    "print(type(list))\n",
    "print(type(sam_arr))"
   ]
  },
  {
   "cell_type": "code",
   "execution_count": 6,
   "id": "center-aaron",
   "metadata": {},
   "outputs": [
    {
     "name": "stdout",
     "output_type": "stream",
     "text": [
      "numpy multi dimantion array\n",
      " [[1 2 3 4]\n",
      " [4 5 6 7]\n",
      " [7 8 9 0]]\n"
     ]
    }
   ],
   "source": [
    "l1=[1,2,3,4]\n",
    "l2=[4,5,6,7]\n",
    "l3=[7,8,9,0]\n",
    "sam_arr= np.array([l1,l2,l3])\n",
    "print(\"numpy multi dimantion array\\n\",sam_arr)"
   ]
  },
  {
   "cell_type": "code",
   "execution_count": 8,
   "id": "twenty-gasoline",
   "metadata": {},
   "outputs": [
    {
     "name": "stdout",
     "output_type": "stream",
     "text": [
      "shap of array (3, 4)\n"
     ]
    }
   ],
   "source": [
    "print(\"shap of array\",sam_arr.shape)"
   ]
  },
  {
   "cell_type": "code",
   "execution_count": 10,
   "id": "exempt-airplane",
   "metadata": {},
   "outputs": [
    {
     "name": "stdout",
     "output_type": "stream",
     "text": [
      "data type of array1 int64\n",
      "data type of array2 float64\n"
     ]
    }
   ],
   "source": [
    "sam1=np.array([[0,4,8]])\n",
    "sam2=np.array([[0.24,0.25,12.35]])\n",
    "print(\"data type of array1\",sam1.dtype)\n",
    "print(\"data type of array2\",sam2.dtype)"
   ]
  },
  {
   "cell_type": "code",
   "execution_count": 16,
   "id": "approved-amazon",
   "metadata": {},
   "outputs": [
    {
     "name": "stdout",
     "output_type": "stream",
     "text": [
      "[ 0  1  4  9 16 25 36 49]\n"
     ]
    }
   ],
   "source": [
    "iterable =(a*a for a in range(8))\n",
    "arr = np.fromiter(iterable,int)\n",
    "print(arr)"
   ]
  },
  {
   "cell_type": "code",
   "execution_count": 17,
   "id": "alpine-philosophy",
   "metadata": {},
   "outputs": [
    {
     "name": "stdout",
     "output_type": "stream",
     "text": [
      "['R' 'a' 'j' 'R' 'a' 't' 'a' 'n' ' ']\n"
     ]
    }
   ],
   "source": [
    "var = \"RajRatan \"\n",
    "arr=np.fromiter(var,dtype=\"U2\")\n",
    "print(arr)"
   ]
  },
  {
   "cell_type": "code",
   "execution_count": 22,
   "id": "sought-pillow",
   "metadata": {},
   "outputs": [
    {
     "data": {
      "text/plain": [
       "array([ 1.,  3.,  5.,  7.,  9., 11., 13., 15., 17., 19., 21., 23., 25.,\n",
       "       27., 29., 31., 33., 35., 37., 39., 41., 43., 45., 47., 49., 51.,\n",
       "       53., 55., 57., 59., 61., 63., 65., 67., 69., 71., 73., 75., 77.,\n",
       "       79., 81., 83., 85., 87., 89., 91., 93., 95., 97.])"
      ]
     },
     "execution_count": 22,
     "metadata": {},
     "output_type": "execute_result"
    }
   ],
   "source": [
    "np.arange(1,99,2,dtype=np.float64)"
   ]
  },
  {
   "cell_type": "code",
   "execution_count": 29,
   "id": "separated-wings",
   "metadata": {},
   "outputs": [
    {
     "data": {
      "text/plain": [
       "array([   1,    4,    7, ..., 9892, 9895, 9898], dtype=int32)"
      ]
     },
     "execution_count": 29,
     "metadata": {},
     "output_type": "execute_result"
    }
   ],
   "source": [
    "np.arange(1,9900,3,dtype=np.int32)"
   ]
  },
  {
   "cell_type": "code",
   "execution_count": 48,
   "id": "governing-spectacular",
   "metadata": {},
   "outputs": [
    {
     "data": {
      "text/plain": [
       "array([  3.        ,  35.33333333,  67.66666667, 100.        ])"
      ]
     },
     "execution_count": 48,
     "metadata": {},
     "output_type": "execute_result"
    }
   ],
   "source": [
    "np.linspace(3,100,4)\n",
    "#starting end slice "
   ]
  },
  {
   "cell_type": "code",
   "execution_count": 49,
   "id": "developing-blake",
   "metadata": {},
   "outputs": [
    {
     "data": {
      "text/plain": [
       "array([[1208063184,          0,          0],\n",
       "       [     32549,          0,          0],\n",
       "       [         0,          0,          0],\n",
       "       [         0,          0,          0]], dtype=int32)"
      ]
     },
     "execution_count": 49,
     "metadata": {},
     "output_type": "execute_result"
    }
   ],
   "source": [
    "np.empty([4, 3],\n",
    "         dtype=np.int32,\n",
    "         order='f')"
   ]
  },
  {
   "cell_type": "code",
   "execution_count": 50,
   "id": "bibliographic-librarian",
   "metadata": {},
   "outputs": [
    {
     "data": {
      "text/plain": [
       "array([[1, 1, 1],\n",
       "       [1, 1, 1],\n",
       "       [1, 1, 1],\n",
       "       [1, 1, 1]], dtype=int32)"
      ]
     },
     "execution_count": 50,
     "metadata": {},
     "output_type": "execute_result"
    }
   ],
   "source": [
    "np.ones([4,3],\n",
    "       dtype=np.int32,\n",
    "       order ='f')"
   ]
  },
  {
   "cell_type": "code",
   "execution_count": 57,
   "id": "celtic-privacy",
   "metadata": {},
   "outputs": [
    {
     "data": {
      "text/plain": [
       "array([[0., 0., 0.],\n",
       "       [0., 0., 0.],\n",
       "       [0., 0., 0.],\n",
       "       [0., 0., 0.],\n",
       "       [0., 0., 0.]])"
      ]
     },
     "execution_count": 57,
     "metadata": {},
     "output_type": "execute_result"
    }
   ],
   "source": [
    "np.zeros([5,3],\n",
    "       dtype=np.float64,\n",
    "       order ='f')"
   ]
  },
  {
   "cell_type": "code",
   "execution_count": null,
   "id": "psychological-walker",
   "metadata": {},
   "outputs": [],
   "source": []
  }
 ],
 "metadata": {
  "kernelspec": {
   "display_name": "Python 3",
   "language": "python",
   "name": "python3"
  },
  "language_info": {
   "codemirror_mode": {
    "name": "ipython",
    "version": 3
   },
   "file_extension": ".py",
   "mimetype": "text/x-python",
   "name": "python",
   "nbconvert_exporter": "python",
   "pygments_lexer": "ipython3",
   "version": "3.8.5"
  }
 },
 "nbformat": 4,
 "nbformat_minor": 5
}
