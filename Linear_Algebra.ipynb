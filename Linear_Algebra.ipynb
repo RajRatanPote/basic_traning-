{
  "nbformat": 4,
  "nbformat_minor": 0,
  "metadata": {
    "colab": {
      "name": "Linear Algebra.ipynb",
      "provenance": []
    },
    "kernelspec": {
      "name": "python3",
      "display_name": "Python 3"
    }
  },
  "cells": [
    {
      "cell_type": "code",
      "metadata": {
        "id": "uuTGq7t8UudC"
      },
      "source": [
        "import numpy as np"
      ],
      "execution_count": 1,
      "outputs": []
    },
    {
      "cell_type": "code",
      "metadata": {
        "colab": {
          "base_uri": "https://localhost:8080/"
        },
        "id": "JCDU8MWEW7vJ",
        "outputId": "acd9b41c-e3aa-4899-c11c-946f4203fc5f"
      },
      "source": [
        "A = np.array([[6,4,8],[4,5,9],[7,5,3]])\n",
        "print(\"print rank of A\",np.linalg.matrix_rank(A))\n",
        "print(\"trance A\",np.trace(A))\n",
        "print(\"Determinant of A\", np.linalg.det(A))\n",
        "print(\"Invert\",np.linalg.inv(A))\n",
        "print(\"matrix\",np.linalg.matrix_power(A,3))"
      ],
      "execution_count": 2,
      "outputs": [
        {
          "output_type": "stream",
          "text": [
            "print rank of A 3\n",
            "trance A 14\n",
            "Determinant of A -95.99999999999999\n",
            "Invert [[ 0.3125     -0.29166667  0.04166667]\n",
            " [-0.53125     0.39583333  0.22916667]\n",
            " [ 0.15625     0.02083333 -0.14583333]]\n",
            "matrix [[1740 1392 1944]\n",
            " [1714 1378 1942]\n",
            " [1540 1222 1606]]\n"
          ],
          "name": "stdout"
        }
      ]
    },
    {
      "cell_type": "code",
      "metadata": {
        "colab": {
          "base_uri": "https://localhost:8080/"
        },
        "id": "jzYwVEZJYxPW",
        "outputId": "aaed3736-0d53-41a7-d722-1e212fcb7be3"
      },
      "source": [
        "from numpy import linalg as lg\n",
        "a=np.array([[1,-2j],[3,4j]])\n",
        "print(\"array is\",a)"
      ],
      "execution_count": 6,
      "outputs": [
        {
          "output_type": "stream",
          "text": [
            "array is [[ 1.+0.j -0.-2.j]\n",
            " [ 3.+0.j  0.+4.j]]\n"
          ],
          "name": "stdout"
        }
      ]
    },
    {
      "cell_type": "code",
      "metadata": {
        "colab": {
          "base_uri": "https://localhost:8080/"
        },
        "id": "WvWzi4bqYaIW",
        "outputId": "635237a4-2c41-4223-d844-2697b5ceb106"
      },
      "source": [
        "c,d = lg.eigh(a)\n",
        "print(\"value of C\",c)\n",
        "print(\"value of D\",c)"
      ],
      "execution_count": 7,
      "outputs": [
        {
          "output_type": "stream",
          "text": [
            "value of C [-2.54138127  3.54138127]\n",
            "value of D [-2.54138127  3.54138127]\n"
          ],
          "name": "stdout"
        }
      ]
    },
    {
      "cell_type": "code",
      "metadata": {
        "colab": {
          "base_uri": "https://localhost:8080/"
        },
        "id": "KD81dld8aU3F",
        "outputId": "3f3700f4-306f-4b93-c7a8-42eed354dcd5"
      },
      "source": [
        "a = np.diag((1,2,3))\n",
        "print(\"a=\", a)\n",
        "c,d =lg.eig(a)\n",
        "print(\"c= \",c)\n",
        "print(\"d=\",d)"
      ],
      "execution_count": 9,
      "outputs": [
        {
          "output_type": "stream",
          "text": [
            "a= [[1 0 0]\n",
            " [0 2 0]\n",
            " [0 0 3]]\n",
            "c=  [1. 2. 3.]\n",
            "d= [[1. 0. 0.]\n",
            " [0. 1. 0.]\n",
            " [0. 0. 1.]]\n"
          ],
          "name": "stdout"
        }
      ]
    },
    {
      "cell_type": "code",
      "metadata": {
        "colab": {
          "base_uri": "https://localhost:8080/"
        },
        "id": "WvEy1FvmcCyC",
        "outputId": "ad0c6fc0-3057-42c9-e6f2-aff20f7c8351"
      },
      "source": [
        "p= np.dot(5,6)\n",
        "print(\"dot of p\", p)"
      ],
      "execution_count": 10,
      "outputs": [
        {
          "output_type": "stream",
          "text": [
            "dot of p 30\n"
          ],
          "name": "stdout"
        }
      ]
    },
    {
      "cell_type": "code",
      "metadata": {
        "colab": {
          "base_uri": "https://localhost:8080/"
        },
        "id": "wXLcq3Nqdk8f",
        "outputId": "0fa5aa19-0f4a-4e16-e3c2-9d91bafda536"
      },
      "source": [
        "v1= 2+3j\n",
        "v2= 9+7j\n",
        "p=np.dot(v1,v2)\n",
        "print(\"dot of v1 & v2\",p )"
      ],
      "execution_count": 11,
      "outputs": [
        {
          "output_type": "stream",
          "text": [
            "dot of v1 & v2 (-3+41j)\n"
          ],
          "name": "stdout"
        }
      ]
    },
    {
      "cell_type": "code",
      "metadata": {
        "colab": {
          "base_uri": "https://localhost:8080/"
        },
        "id": "QLuagX7ed-hB",
        "outputId": "75c4af9d-ecd4-401c-916a-dc5cb68afee2"
      },
      "source": [
        "p=np.vdot(v1,v2)\n",
        "print(p)"
      ],
      "execution_count": 14,
      "outputs": [
        {
          "output_type": "stream",
          "text": [
            "(39-13j)\n"
          ],
          "name": "stdout"
        }
      ]
    },
    {
      "cell_type": "code",
      "metadata": {
        "colab": {
          "base_uri": "https://localhost:8080/"
        },
        "id": "uTHM6N3epJsb",
        "outputId": "91ddfc6d-9a6f-4152-90f4-ed3dc381c523"
      },
      "source": [
        "a=np.array([[1,2],[3,4]])\n",
        "b=np.array([8,9])\n",
        "print((\"solution of linear equation:\",np.linalg.solve(a,b)))"
      ],
      "execution_count": 18,
      "outputs": [
        {
          "output_type": "stream",
          "text": [
            "('solution of linear equation:', array([-7. ,  7.5]))\n"
          ],
          "name": "stdout"
        }
      ]
    },
    {
      "cell_type": "code",
      "metadata": {
        "colab": {
          "base_uri": "https://localhost:8080/",
          "height": 336
        },
        "id": "Njpwy81jqDrt",
        "outputId": "d0f12155-1687-4ad9-dc3e-fa6e4062dfa1"
      },
      "source": [
        "import numpy as np\n",
        "import matplotlib.pyplot as plt\n",
        "x= np.arange(0,9)\n",
        "a=np.array([x, np.ones(9)])\n",
        "y=[1,2,5,8,4,7,9,6,12.02]\n",
        "w= np.linalg.lstsq(a.T,y)[0]\n",
        "line = w[0]*x+w[1]\n",
        "plt.plot(x,line,'r-')\n",
        "plt.plot(x,y,'o')\n",
        "plt.show()"
      ],
      "execution_count": 19,
      "outputs": [
        {
          "output_type": "stream",
          "text": [
            "/usr/local/lib/python3.7/dist-packages/ipykernel_launcher.py:6: FutureWarning: `rcond` parameter will change to the default of machine precision times ``max(M, N)`` where M and N are the input matrix dimensions.\n",
            "To use the future default and silence this warning we advise to pass `rcond=None`, to keep using the old, explicitly pass `rcond=-1`.\n",
            "  \n"
          ],
          "name": "stderr"
        },
        {
          "output_type": "display_data",
          "data": {
            "image/png": "[encoded data removed]",
            "text/plain": [
              "<Figure size 432x288 with 1 Axes>"
            ]
          },
          "metadata": {
            "tags": [],
            "needs_background": "light"
          }
        }
      ]
    },
    {
      "cell_type": "code",
      "metadata": {
        "colab": {
          "base_uri": "https://localhost:8080/"
        },
        "id": "fOx69P4zr5gx",
        "outputId": "22ea59a7-2c08-4b15-d178-eb92254be08c"
      },
      "source": [
        "a=np.array([[10255,255896,95875451],[54578445,2656865,264545],[26656,264598556,-154854]])\n",
        "print((\"Determinant\",np.linalg.det(a)))"
      ],
      "execution_count": 23,
      "outputs": [
        {
          "output_type": "stream",
          "text": [
            "('Determinant', 1.3845682559483203e+24)\n"
          ],
          "name": "stdout"
        }
      ]
    },
    {
      "cell_type": "code",
      "metadata": {
        "colab": {
          "base_uri": "https://localhost:8080/"
        },
        "id": "P1M_QVj_sZpe",
        "outputId": "bfc457b9-f1cd-4843-cfcc-bf7ad066c266"
      },
      "source": [
        "a=np.array([[10255,255896,95875451],[54578445,2656865,264545],[26656,264598556,-154854]])\n",
        "print(\"Trance\",np.trace(a))"
      ],
      "execution_count": 25,
      "outputs": [
        {
          "output_type": "stream",
          "text": [
            "Trance 2512266\n"
          ],
          "name": "stdout"
        }
      ]
    },
    {
      "cell_type": "code",
      "metadata": {
        "id": "dVjAqB94tFrQ"
      },
      "source": [
        ""
      ],
      "execution_count": null,
      "outputs": []
    }
  ]
}