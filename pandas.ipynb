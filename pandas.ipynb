{
 "cells": [
  {
   "cell_type": "code",
   "execution_count": 1,
   "id": "swiss-hardware",
   "metadata": {},
   "outputs": [],
   "source": [
    "import pandas as pd"
   ]
  },
  {
   "cell_type": "code",
   "execution_count": 2,
   "id": "fallen-recording",
   "metadata": {},
   "outputs": [
    {
     "data": {
      "text/plain": [
       "2014    2409.14\n",
       "2015    2941.01\n",
       "2016    3496.83\n",
       "2017    3119.55\n",
       "2014    1203.45\n",
       "2015    3441.62\n",
       "2016    3007.83\n",
       "2017    3619.53\n",
       "2014    3412.12\n",
       "2015    3491.16\n",
       "2016    3457.19\n",
       "2017    1963.10\n",
       "dtype: float64"
      ]
     },
     "execution_count": 2,
     "metadata": {},
     "output_type": "execute_result"
    }
   ],
   "source": [
    "years = range(2014,2018)\n",
    "s1 = pd.Series([2409.14,2941.01,3496.83,3119.55], index=years)\n",
    "s2 = pd.Series([1203.45,3441.62,3007.83,3619.53], index= years)\n",
    "s3 = pd.Series([3412.12,3491.16,3457.19,1963.10], index=years)\n",
    "pd.concat([s1,s2,s3])"
   ]
  },
  {
   "cell_type": "code",
   "execution_count": 3,
   "id": "spanish-florist",
   "metadata": {},
   "outputs": [
    {
     "data": {
      "text/html": [
       "<div>\n",
       "<style scoped>\n",
       "    .dataframe tbody tr th:only-of-type {\n",
       "        vertical-align: middle;\n",
       "    }\n",
       "\n",
       "    .dataframe tbody tr th {\n",
       "        vertical-align: top;\n",
       "    }\n",
       "\n",
       "    .dataframe thead th {\n",
       "        text-align: right;\n",
       "    }\n",
       "</style>\n",
       "<table border=\"1\" class=\"dataframe\">\n",
       "  <thead>\n",
       "    <tr style=\"text-align: right;\">\n",
       "      <th></th>\n",
       "      <th>0</th>\n",
       "      <th>1</th>\n",
       "      <th>2</th>\n",
       "    </tr>\n",
       "  </thead>\n",
       "  <tbody>\n",
       "    <tr>\n",
       "      <th>2014</th>\n",
       "      <td>2409.14</td>\n",
       "      <td>1203.45</td>\n",
       "      <td>3412.12</td>\n",
       "    </tr>\n",
       "    <tr>\n",
       "      <th>2015</th>\n",
       "      <td>2941.01</td>\n",
       "      <td>3441.62</td>\n",
       "      <td>3491.16</td>\n",
       "    </tr>\n",
       "    <tr>\n",
       "      <th>2016</th>\n",
       "      <td>3496.83</td>\n",
       "      <td>3007.83</td>\n",
       "      <td>3457.19</td>\n",
       "    </tr>\n",
       "    <tr>\n",
       "      <th>2017</th>\n",
       "      <td>3119.55</td>\n",
       "      <td>3619.53</td>\n",
       "      <td>1963.10</td>\n",
       "    </tr>\n",
       "  </tbody>\n",
       "</table>\n",
       "</div>"
      ],
      "text/plain": [
       "            0        1        2\n",
       "2014  2409.14  1203.45  3412.12\n",
       "2015  2941.01  3441.62  3491.16\n",
       "2016  3496.83  3007.83  3457.19\n",
       "2017  3119.55  3619.53  1963.10"
      ]
     },
     "execution_count": 3,
     "metadata": {},
     "output_type": "execute_result"
    }
   ],
   "source": [
    "sh_df = pd.concat([s1,s2,s3], axis=1)\n",
    "sh_df"
   ]
  },
  {
   "cell_type": "code",
   "execution_count": 4,
   "id": "fiscal-pharmacology",
   "metadata": {},
   "outputs": [
    {
     "name": "stdout",
     "output_type": "stream",
     "text": [
      "         Dhar   Indore   Bhopal\n",
      "2014  2409.14  1203.45  3412.12\n",
      "2015  2941.01  3441.62  3491.16\n",
      "2016  3496.83  3007.83  3457.19\n",
      "2017  3119.55  3619.53  1963.10\n",
      "________\n",
      "       manmad    shird     Pune\n",
      "2014  2409.14  1203.45  3412.12\n",
      "2015  2941.01  3441.62  3491.16\n",
      "2016  3496.83  3007.83  3457.19\n",
      "2017  3119.55  3619.53  1963.10\n"
     ]
    }
   ],
   "source": [
    "cities = [\"Dhar\", \"Indore\",\"Bhopal\"]\n",
    "sh_df.columns = cities\n",
    "print(sh_df)\n",
    "\n",
    "# one more way \n",
    "s1.name = \"manmad\"\n",
    "s2.name = \"shird\"\n",
    "s3.name = \"Pune\"\n",
    "print(\"________\")\n",
    "sh_df1= pd.concat([s1,s2,s3], axis=1)\n",
    "print(sh_df1)"
   ]
  },
  {
   "cell_type": "code",
   "execution_count": 5,
   "id": "stuck-charm",
   "metadata": {},
   "outputs": [
    {
     "name": "stdout",
     "output_type": "stream",
     "text": [
      "<class 'pandas.core.frame.DataFrame'>\n"
     ]
    }
   ],
   "source": [
    "print(type(sh_df))"
   ]
  },
  {
   "cell_type": "code",
   "execution_count": 6,
   "id": "competent-marking",
   "metadata": {},
   "outputs": [],
   "source": [
    "#datafram from Dictionaries"
   ]
  },
  {
   "cell_type": "code",
   "execution_count": 7,
   "id": "interpreted-branch",
   "metadata": {},
   "outputs": [
    {
     "name": "stdout",
     "output_type": "stream",
     "text": [
      "         name  Popluation Country\n",
      "0        Dhar   254512322   India\n",
      "1      Indore      145455   India\n",
      "2      Bhopal    15485420   India\n",
      "3        Pune   151515150   India\n",
      "4       Shird   154851202   India\n",
      "5      Manmad  1548546263   India\n",
      "6       bagdi    15415415   India\n",
      "7       Mandu     1554152   India\n",
      "8    BAnglore     1554152   India\n",
      "9   reshikash      154541   India\n",
      "10   haridwar     1541541   India\n",
      "11     Shimla       28956   India\n",
      "12      Rachi    98989842   India\n"
     ]
    }
   ],
   "source": [
    "city={\"name\":[\"Dhar\",\"Indore\",\"Bhopal\",\"Pune\",\"Shird\",\"Manmad\",\"bagdi\",\"Mandu\",\"BAnglore\",\"reshikash\",\"haridwar\",\"Shimla\",\"Rachi\"],\n",
    "     \"Popluation\":[254512322,145455,15485420,151515150,154851202,1548546263,15415415,1554152,1554152,154541,1541541,28956,98989842],\n",
    "     \"Country\":[\"India\",\"India\",\"India\",\"India\",\"India\",\"India\",\"India\",\"India\",\"India\",\"India\",\"India\",\"India\",\"India\",]}\n",
    "ci_f=pd.DataFrame(city)\n",
    "print(ci_f)"
   ]
  },
  {
   "cell_type": "code",
   "execution_count": 8,
   "id": "exterior-mongolia",
   "metadata": {},
   "outputs": [
    {
     "data": {
      "text/plain": [
       "array(['name', 'Popluation', 'Country'], dtype=object)"
      ]
     },
     "execution_count": 8,
     "metadata": {},
     "output_type": "execute_result"
    }
   ],
   "source": [
    "ci_f.columns.values"
   ]
  },
  {
   "cell_type": "code",
   "execution_count": 9,
   "id": "similar-empire",
   "metadata": {},
   "outputs": [
    {
     "name": "stdout",
     "output_type": "stream",
     "text": [
      "           name  Popluation Country\n",
      "1st        Dhar   254512322   India\n",
      "2nd      Indore      145455   India\n",
      "3rd      Bhopal    15485420   India\n",
      "4th        Pune   151515150   India\n",
      "5th       Shird   154851202   India\n",
      "6th      Manmad  1548546263   India\n",
      "7th       bagdi    15415415   India\n",
      "8th       Mandu     1554152   India\n",
      "9th    BAnglore     1554152   India\n",
      "10th  reshikash      154541   India\n",
      "11th   haridwar     1541541   India\n",
      "12       Shimla       28956   India\n",
      "13        Rachi    98989842   India\n"
     ]
    }
   ],
   "source": [
    "so_no=[\"1st\",\"2nd\",\"3rd\",\"4th\",\"5th\",\"6th\",\"7th\",\"8th\",\"9th\",\"10th\",\"11th\",\"12\",\"13\"]\n",
    "ci_f=pd.DataFrame(city,index=so_no)\n",
    "print(ci_f)"
   ]
  },
  {
   "cell_type": "code",
   "execution_count": 10,
   "id": "declared-bookmark",
   "metadata": {},
   "outputs": [
    {
     "name": "stdout",
     "output_type": "stream",
     "text": [
      "         name Country  Popluation\n",
      "0        Dhar   India   254512322\n",
      "1      Indore   India      145455\n",
      "2      Bhopal   India    15485420\n",
      "3        Pune   India   151515150\n",
      "4       Shird   India   154851202\n",
      "5      Manmad   India  1548546263\n",
      "6       bagdi   India    15415415\n",
      "7       Mandu   India     1554152\n",
      "8    BAnglore   India     1554152\n",
      "9   reshikash   India      154541\n",
      "10   haridwar   India     1541541\n",
      "11     Shimla   India       28956\n",
      "12      Rachi   India    98989842\n"
     ]
    }
   ],
   "source": [
    "ci_f = pd.DataFrame(city,columns=[\"name\",\"Country\",\"Popluation\"])\n",
    "print(ci_f)"
   ]
  },
  {
   "cell_type": "code",
   "execution_count": 11,
   "id": "emotional-credit",
   "metadata": {},
   "outputs": [
    {
     "data": {
      "text/html": [
       "<div>\n",
       "<style scoped>\n",
       "    .dataframe tbody tr th:only-of-type {\n",
       "        vertical-align: middle;\n",
       "    }\n",
       "\n",
       "    .dataframe tbody tr th {\n",
       "        vertical-align: top;\n",
       "    }\n",
       "\n",
       "    .dataframe thead th {\n",
       "        text-align: right;\n",
       "    }\n",
       "</style>\n",
       "<table border=\"1\" class=\"dataframe\">\n",
       "  <thead>\n",
       "    <tr style=\"text-align: right;\">\n",
       "      <th></th>\n",
       "      <th>Country</th>\n",
       "      <th>Popluation</th>\n",
       "      <th>name</th>\n",
       "    </tr>\n",
       "  </thead>\n",
       "  <tbody>\n",
       "    <tr>\n",
       "      <th>0</th>\n",
       "      <td>India</td>\n",
       "      <td>254512322</td>\n",
       "      <td>Dhar</td>\n",
       "    </tr>\n",
       "    <tr>\n",
       "      <th>5</th>\n",
       "      <td>India</td>\n",
       "      <td>1548546263</td>\n",
       "      <td>Manmad</td>\n",
       "    </tr>\n",
       "    <tr>\n",
       "      <th>9</th>\n",
       "      <td>India</td>\n",
       "      <td>154541</td>\n",
       "      <td>reshikash</td>\n",
       "    </tr>\n",
       "    <tr>\n",
       "      <th>7</th>\n",
       "      <td>India</td>\n",
       "      <td>1554152</td>\n",
       "      <td>Mandu</td>\n",
       "    </tr>\n",
       "    <tr>\n",
       "      <th>8</th>\n",
       "      <td>India</td>\n",
       "      <td>1554152</td>\n",
       "      <td>BAnglore</td>\n",
       "    </tr>\n",
       "    <tr>\n",
       "      <th>6</th>\n",
       "      <td>India</td>\n",
       "      <td>15415415</td>\n",
       "      <td>bagdi</td>\n",
       "    </tr>\n",
       "    <tr>\n",
       "      <th>3</th>\n",
       "      <td>India</td>\n",
       "      <td>151515150</td>\n",
       "      <td>Pune</td>\n",
       "    </tr>\n",
       "    <tr>\n",
       "      <th>4</th>\n",
       "      <td>India</td>\n",
       "      <td>154851202</td>\n",
       "      <td>Shird</td>\n",
       "    </tr>\n",
       "    <tr>\n",
       "      <th>1</th>\n",
       "      <td>India</td>\n",
       "      <td>145455</td>\n",
       "      <td>Indore</td>\n",
       "    </tr>\n",
       "    <tr>\n",
       "      <th>2</th>\n",
       "      <td>India</td>\n",
       "      <td>15485420</td>\n",
       "      <td>Bhopal</td>\n",
       "    </tr>\n",
       "    <tr>\n",
       "      <th>12</th>\n",
       "      <td>India</td>\n",
       "      <td>98989842</td>\n",
       "      <td>Rachi</td>\n",
       "    </tr>\n",
       "    <tr>\n",
       "      <th>10</th>\n",
       "      <td>India</td>\n",
       "      <td>1541541</td>\n",
       "      <td>haridwar</td>\n",
       "    </tr>\n",
       "    <tr>\n",
       "      <th>11</th>\n",
       "      <td>India</td>\n",
       "      <td>28956</td>\n",
       "      <td>Shimla</td>\n",
       "    </tr>\n",
       "  </tbody>\n",
       "</table>\n",
       "</div>"
      ],
      "text/plain": [
       "   Country  Popluation       name\n",
       "0    India   254512322       Dhar\n",
       "5    India  1548546263     Manmad\n",
       "9    India      154541  reshikash\n",
       "7    India     1554152      Mandu\n",
       "8    India     1554152   BAnglore\n",
       "6    India    15415415      bagdi\n",
       "3    India   151515150       Pune\n",
       "4    India   154851202      Shird\n",
       "1    India      145455     Indore\n",
       "2    India    15485420     Bhopal\n",
       "12   India    98989842      Rachi\n",
       "10   India     1541541   haridwar\n",
       "11   India       28956     Shimla"
      ]
     },
     "execution_count": 11,
     "metadata": {},
     "output_type": "execute_result"
    }
   ],
   "source": [
    "ci_f.reindex(index=[0,5,9,7,8,6,3,4,1,2,12,10,11],columns = ['Country','Popluation','name'])\n"
   ]
  },
  {
   "cell_type": "code",
   "execution_count": 12,
   "id": "renewable-aberdeen",
   "metadata": {},
   "outputs": [
    {
     "name": "stdout",
     "output_type": "stream",
     "text": [
      "         City   Desh  Popluation\n",
      "0        Dhar  India   254512322\n",
      "1      Indore  India      145455\n",
      "2      Bhopal  India    15485420\n",
      "3        Pune  India   151515150\n",
      "4       Shird  India   154851202\n",
      "5      Manmad  India  1548546263\n",
      "6       bagdi  India    15415415\n",
      "7       Mandu  India     1554152\n",
      "8    BAnglore  India     1554152\n",
      "9   reshikash  India      154541\n",
      "10   haridwar  India     1541541\n",
      "11     Shimla  India       28956\n",
      "12      Rachi  India    98989842\n"
     ]
    }
   ],
   "source": [
    "ci_f.rename(columns={\"name\":\"City\",\"Country\":\"Desh\",\"Population\":\"jansankhya\"},inplace=True)\n",
    "print(ci_f)"
   ]
  },
  {
   "cell_type": "code",
   "execution_count": 13,
   "id": "handed-prompt",
   "metadata": {},
   "outputs": [
    {
     "data": {
      "text/html": [
       "<div>\n",
       "<style scoped>\n",
       "    .dataframe tbody tr th:only-of-type {\n",
       "        vertical-align: middle;\n",
       "    }\n",
       "\n",
       "    .dataframe tbody tr th {\n",
       "        vertical-align: top;\n",
       "    }\n",
       "\n",
       "    .dataframe thead th {\n",
       "        text-align: right;\n",
       "    }\n",
       "</style>\n",
       "<table border=\"1\" class=\"dataframe\">\n",
       "  <thead>\n",
       "    <tr style=\"text-align: right;\">\n",
       "      <th></th>\n",
       "      <th>name</th>\n",
       "      <th>Popluation</th>\n",
       "    </tr>\n",
       "  </thead>\n",
       "  <tbody>\n",
       "    <tr>\n",
       "      <th>India</th>\n",
       "      <td>Dhar</td>\n",
       "      <td>254512322</td>\n",
       "    </tr>\n",
       "    <tr>\n",
       "      <th>India</th>\n",
       "      <td>Indore</td>\n",
       "      <td>145455</td>\n",
       "    </tr>\n",
       "    <tr>\n",
       "      <th>India</th>\n",
       "      <td>Bhopal</td>\n",
       "      <td>15485420</td>\n",
       "    </tr>\n",
       "    <tr>\n",
       "      <th>India</th>\n",
       "      <td>Pune</td>\n",
       "      <td>151515150</td>\n",
       "    </tr>\n",
       "    <tr>\n",
       "      <th>India</th>\n",
       "      <td>Shird</td>\n",
       "      <td>154851202</td>\n",
       "    </tr>\n",
       "    <tr>\n",
       "      <th>India</th>\n",
       "      <td>Manmad</td>\n",
       "      <td>1548546263</td>\n",
       "    </tr>\n",
       "    <tr>\n",
       "      <th>India</th>\n",
       "      <td>bagdi</td>\n",
       "      <td>15415415</td>\n",
       "    </tr>\n",
       "    <tr>\n",
       "      <th>India</th>\n",
       "      <td>Mandu</td>\n",
       "      <td>1554152</td>\n",
       "    </tr>\n",
       "    <tr>\n",
       "      <th>India</th>\n",
       "      <td>BAnglore</td>\n",
       "      <td>1554152</td>\n",
       "    </tr>\n",
       "    <tr>\n",
       "      <th>India</th>\n",
       "      <td>reshikash</td>\n",
       "      <td>154541</td>\n",
       "    </tr>\n",
       "    <tr>\n",
       "      <th>India</th>\n",
       "      <td>haridwar</td>\n",
       "      <td>1541541</td>\n",
       "    </tr>\n",
       "    <tr>\n",
       "      <th>India</th>\n",
       "      <td>Shimla</td>\n",
       "      <td>28956</td>\n",
       "    </tr>\n",
       "    <tr>\n",
       "      <th>India</th>\n",
       "      <td>Rachi</td>\n",
       "      <td>98989842</td>\n",
       "    </tr>\n",
       "  </tbody>\n",
       "</table>\n",
       "</div>"
      ],
      "text/plain": [
       "            name  Popluation\n",
       "India       Dhar   254512322\n",
       "India     Indore      145455\n",
       "India     Bhopal    15485420\n",
       "India       Pune   151515150\n",
       "India      Shird   154851202\n",
       "India     Manmad  1548546263\n",
       "India      bagdi    15415415\n",
       "India      Mandu     1554152\n",
       "India   BAnglore     1554152\n",
       "India  reshikash      154541\n",
       "India   haridwar     1541541\n",
       "India     Shimla       28956\n",
       "India      Rachi    98989842"
      ]
     },
     "execution_count": 13,
     "metadata": {},
     "output_type": "execute_result"
    }
   ],
   "source": [
    "ci_f=pd.DataFrame(city, columns=[\"name\",\"Popluation\"],index=city[\"Country\"])\n",
    "ci_f"
   ]
  },
  {
   "cell_type": "code",
   "execution_count": 14,
   "id": "double-horizontal",
   "metadata": {},
   "outputs": [],
   "source": [
    "# accessing Rows via index Valves"
   ]
  },
  {
   "cell_type": "code",
   "execution_count": 15,
   "id": "earlier-position",
   "metadata": {},
   "outputs": [
    {
     "name": "stdout",
     "output_type": "stream",
     "text": [
      "         name  Popluation Country\n",
      "0        Dhar   254512322   India\n",
      "1      Indore      145455   India\n",
      "2      Bhopal    15485420   India\n",
      "3        Pune   151515150   India\n",
      "4       Shird   154851202   India\n",
      "5      Manmad  1548546263   India\n",
      "6       bagdi    15415415   India\n",
      "7       Mandu     1554152   India\n",
      "8    BAnglore     1554152   India\n",
      "9   reshikash      154541   India\n",
      "10   haridwar     1541541   India\n",
      "11     Shimla       28956   India\n",
      "12      Rachi    98989842   India\n",
      "            name  Popluation\n",
      "India       Dhar   254512322\n",
      "India     Indore      145455\n",
      "India     Bhopal    15485420\n",
      "India       Pune   151515150\n",
      "India      Shird   154851202\n",
      "India     Manmad  1548546263\n",
      "India      bagdi    15415415\n",
      "India      Mandu     1554152\n",
      "India   BAnglore     1554152\n",
      "India  reshikash      154541\n",
      "India   haridwar     1541541\n",
      "India     Shimla       28956\n",
      "India      Rachi    98989842\n"
     ]
    }
   ],
   "source": [
    "city={\"name\":[\"Dhar\",\"Indore\",\"Bhopal\",\"Pune\",\"Shird\",\"Manmad\",\"bagdi\",\"Mandu\",\"BAnglore\",\"reshikash\",\"haridwar\",\"Shimla\",\"Rachi\"],\n",
    "     \"Popluation\":[254512322,145455,15485420,151515150,154851202,1548546263,15415415,1554152,1554152,154541,1541541,28956,98989842],\n",
    "     \"Country\":[\"India\",\"India\",\"India\",\"India\",\"India\",\"India\",\"India\",\"India\",\"India\",\"India\",\"India\",\"India\",\"India\",]}\n",
    "ci_f=pd.DataFrame(city)\n",
    "print(ci_f)\n",
    "ci_f=pd.DataFrame(city,columns=(\"name\",\"Popluation\"),index=city[\"Country\"])\n",
    "print(ci_f.loc[\"India\"])"
   ]
  },
  {
   "cell_type": "code",
   "execution_count": 16,
   "id": "assured-jacksonville",
   "metadata": {},
   "outputs": [
    {
     "name": "stdout",
     "output_type": "stream",
     "text": [
      "India     True\n",
      "India    False\n",
      "India     True\n",
      "India     True\n",
      "India     True\n",
      "India     True\n",
      "India     True\n",
      "India    False\n",
      "India    False\n",
      "India    False\n",
      "India    False\n",
      "India    False\n",
      "India     True\n",
      "Name: Popluation, dtype: bool\n"
     ]
    }
   ],
   "source": [
    "condition = ci_f.Popluation>10000000\n",
    "print(condition)"
   ]
  },
  {
   "cell_type": "code",
   "execution_count": 17,
   "id": "forbidden-glucose",
   "metadata": {},
   "outputs": [
    {
     "name": "stdout",
     "output_type": "stream",
     "text": [
      "         name  Popluation\n",
      "India    Dhar   254512322\n",
      "India  Bhopal    15485420\n",
      "India    Pune   151515150\n",
      "India   Shird   154851202\n",
      "India  Manmad  1548546263\n",
      "India   bagdi    15415415\n",
      "India   Rachi    98989842\n"
     ]
    }
   ],
   "source": [
    "print(ci_f.loc[condition])"
   ]
  },
  {
   "cell_type": "code",
   "execution_count": 18,
   "id": "ancient-appeal",
   "metadata": {},
   "outputs": [
    {
     "name": "stdout",
     "output_type": "stream",
     "text": [
      "        name  Popluation\n",
      "India   Dhar   254512322\n",
      "India  Shird   154851202\n"
     ]
    }
   ],
   "source": [
    "con1=(ci_f.Popluation>10000000)\n",
    "con2=(ci_f[\"name\"].str.contains(\"r\"))\n",
    "print(ci_f.loc[con1 & con2])"
   ]
  },
  {
   "cell_type": "code",
   "execution_count": 19,
   "id": "considerable-exhibit",
   "metadata": {},
   "outputs": [],
   "source": [
    "# accessing Rows by Position "
   ]
  },
  {
   "cell_type": "code",
   "execution_count": 22,
   "id": "understood-cosmetic",
   "metadata": {},
   "outputs": [
    {
     "name": "stdout",
     "output_type": "stream",
     "text": [
      "name               Pune\n",
      "Popluation    151515150\n",
      "Name: India, dtype: object\n"
     ]
    }
   ],
   "source": [
    "df=ci_f.iloc[3]\n",
    "print(df)"
   ]
  },
  {
   "cell_type": "code",
   "execution_count": 23,
   "id": "positive-yemen",
   "metadata": {},
   "outputs": [
    {
     "name": "stdout",
     "output_type": "stream",
     "text": [
      "         name  Popluation\n",
      "India    Pune   151515150\n",
      "India  Bhopal    15485420\n",
      "India    Dhar   254512322\n",
      "India  Manmad  1548546263\n",
      "India    Dhar   254512322\n"
     ]
    }
   ],
   "source": [
    "df=ci_f.iloc[[3,2,0,5,0]]\n",
    "print(df)"
   ]
  },
  {
   "cell_type": "code",
   "execution_count": 24,
   "id": "undefined-paradise",
   "metadata": {},
   "outputs": [],
   "source": [
    "\n",
    "#sum and Cumulative Sum"
   ]
  },
  {
   "cell_type": "code",
   "execution_count": 33,
   "id": "flush-delivery",
   "metadata": {},
   "outputs": [
    {
     "name": "stdout",
     "output_type": "stream",
     "text": [
      "        Dhar  Indore  Bhopal   Mandu    Pune\n",
      "2014  764.58  825.17  838.58  845.80  845.78\n",
      "2015  891.28  896.26  808.00  854.77  923.26\n",
      "2016  882.36  995.92  710.53  829.22  972.49\n",
      "2017  747.37  839.87  717.25  715.55  779.47\n",
      "2018  928.01  834.65  823.15  944.47  908.14\n"
     ]
    }
   ],
   "source": [
    "#import numpy as np\n",
    "year=range(2014,2019)\n",
    "cities=[\"Dhar\",\"Indore\",\"Bhopal\",\"Mandu\",\"Pune\"]\n",
    "shop=pd.DataFrame(index=years)\n",
    "for city in cities:\n",
    "    shop.insert(loc=len(shop.columns),\n",
    "               column = city,\n",
    "               value=(np.random.uniform(0.7,1,(5,))*1000).round(2))\n",
    "print(shop)"
   ]
  },
  {
   "cell_type": "code",
   "execution_count": 34,
   "id": "confidential-chancellor",
   "metadata": {},
   "outputs": [
    {
     "data": {
      "text/plain": [
       "Dhar      4213.60\n",
       "Indore    4391.87\n",
       "Bhopal    3897.51\n",
       "Mandu     4189.81\n",
       "Pune      4429.14\n",
       "dtype: float64"
      ]
     },
     "execution_count": 34,
     "metadata": {},
     "output_type": "execute_result"
    }
   ],
   "source": [
    "shop.sum()"
   ]
  },
  {
   "cell_type": "code",
   "execution_count": 35,
   "id": "major-tracy",
   "metadata": {},
   "outputs": [
    {
     "data": {
      "text/plain": [
       "2014    4119.91\n",
       "2015    4373.57\n",
       "2016    4390.52\n",
       "2017    3799.51\n",
       "2018    4438.42\n",
       "dtype: float64"
      ]
     },
     "execution_count": 35,
     "metadata": {},
     "output_type": "execute_result"
    }
   ],
   "source": [
    "shop.sum(axis=1)"
   ]
  },
  {
   "cell_type": "code",
   "execution_count": 36,
   "id": "innovative-curve",
   "metadata": {},
   "outputs": [
    {
     "name": "stdout",
     "output_type": "stream",
     "text": [
      "        Dhar  Bhopal    Pune\n",
      "2014  764.58  838.58  845.78\n",
      "2015  891.28  808.00  923.26\n",
      "2016  882.36  710.53  972.49\n",
      "2017  747.37  717.25  779.47\n",
      "2018  928.01  823.15  908.14\n",
      "& Now th sum \n",
      "Dhar      4213.60\n",
      "Bhopal    3897.51\n",
      "Pune      4429.14\n",
      "dtype: float64\n"
     ]
    }
   ],
   "source": [
    "s=shop.iloc[:,[0,2,-1]]\n",
    "print(s)\n",
    "print(\"& Now the sum \")\n",
    "print(s.sum())"
   ]
  },
  {
   "cell_type": "code",
   "execution_count": 37,
   "id": "confirmed-coral",
   "metadata": {},
   "outputs": [
    {
     "data": {
      "text/plain": [
       "Dhar      4213.60\n",
       "Bhopal    3897.51\n",
       "Pune      4429.14\n",
       "dtype: float64"
      ]
     },
     "execution_count": 37,
     "metadata": {},
     "output_type": "execute_result"
    }
   ],
   "source": [
    "shop[[\"Dhar\",\"Bhopal\",\"Pune\"]].sum()"
   ]
  },
  {
   "cell_type": "code",
   "execution_count": 40,
   "id": "geographic-breakdown",
   "metadata": {},
   "outputs": [
    {
     "name": "stdout",
     "output_type": "stream",
     "text": [
      "         Dhar   Indore   Bhopal    Mandu     Pune\n",
      "2014   764.58   825.17   838.58   845.80   845.78\n",
      "2015  1655.86  1721.43  1646.58  1700.57  1769.04\n",
      "2016  2538.22  2717.35  2357.11  2529.79  2741.53\n",
      "2017  3285.59  3557.22  3074.36  3245.34  3521.00\n",
      "2018  4213.60  4391.87  3897.51  4189.81  4429.14\n"
     ]
    }
   ],
   "source": [
    "x=shop.cumsum()\n",
    "print(x)"
   ]
  },
  {
   "cell_type": "code",
   "execution_count": 41,
   "id": "impossible-popularity",
   "metadata": {},
   "outputs": [
    {
     "name": "stdout",
     "output_type": "stream",
     "text": [
      "        Dhar   Indore   Bhopal    Mandu     Pune\n",
      "2014  764.58  1589.75  2428.33  3274.13  4119.91\n",
      "2015  891.28  1787.54  2595.54  3450.31  4373.57\n",
      "2016  882.36  1878.28  2588.81  3418.03  4390.52\n",
      "2017  747.37  1587.24  2304.49  3020.04  3799.51\n",
      "2018  928.01  1762.66  2585.81  3530.28  4438.42\n"
     ]
    }
   ],
   "source": [
    "x=shop.cumsum(axis=1)\n",
    "print(x)"
   ]
  },
  {
   "cell_type": "code",
   "execution_count": null,
   "id": "advised-layer",
   "metadata": {},
   "outputs": [],
   "source": []
  }
 ],
 "metadata": {
  "kernelspec": {
   "display_name": "Python 3",
   "language": "python",
   "name": "python3"
  },
  "language_info": {
   "codemirror_mode": {
    "name": "ipython",
    "version": 3
   },
   "file_extension": ".py",
   "mimetype": "text/x-python",
   "name": "python",
   "nbconvert_exporter": "python",
   "pygments_lexer": "ipython3",
   "version": "3.8.5"
  }
 },
 "nbformat": 4,
 "nbformat_minor": 5
}
